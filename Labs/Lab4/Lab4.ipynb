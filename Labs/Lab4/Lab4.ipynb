{
 "cells": [
  {
   "cell_type": "markdown",
   "metadata": {},
   "source": [
    "Griffin Shelor\\\n",
    "25-9-2024\\\n",
    "Lab 4"
   ]
  },
  {
   "cell_type": "markdown",
   "metadata": {},
   "source": [
    "### Steps 2-4"
   ]
  },
  {
   "cell_type": "code",
   "execution_count": 10,
   "metadata": {},
   "outputs": [
    {
     "name": "stdout",
     "output_type": "stream",
     "text": [
      "Hello World! Good times await!\n",
      "<class 'str'>\n",
      "['Hello', 'World!', 'Good', 'times', 'await!']\n"
     ]
    }
   ],
   "source": [
    "AdvancedGIS4lyf = \"Hello World! Good times await!\"\n",
    "print(AdvancedGIS4lyf)\n",
    "### Step 3\n",
    "print(type(AdvancedGIS4lyf))\n",
    "### Step 4\n",
    "print(AdvancedGIS4lyf.split())"
   ]
  },
  {
   "cell_type": "markdown",
   "metadata": {},
   "source": [
    "Step 3 Answer:\\\n",
    "The type is string."
   ]
  },
  {
   "cell_type": "markdown",
   "metadata": {},
   "source": [
    "Step 4 Answer:\\\n",
    "The purpose of the split command is to split the string into separate units of a list based on some separator. The default is any space."
   ]
  },
  {
   "cell_type": "markdown",
   "metadata": {},
   "source": [
    "### Step 5"
   ]
  },
  {
   "cell_type": "code",
   "execution_count": 11,
   "metadata": {},
   "outputs": [
    {
     "data": {
      "text/plain": [
       "'Hello World! Good times await!'"
      ]
     },
     "execution_count": 11,
     "metadata": {},
     "output_type": "execute_result"
    }
   ],
   "source": [
    "AdvancedGIS4lyf\n"
   ]
  },
  {
   "cell_type": "markdown",
   "metadata": {},
   "source": [
    "Step 5 Answer:\\\n",
    "If I wanted to overwrite the output from step 3, I would assign the output of AdvancedGIS4lyf.split() to the same variable name, AdvancedGIS4lyf."
   ]
  },
  {
   "cell_type": "code",
   "execution_count": 12,
   "metadata": {},
   "outputs": [
    {
     "name": "stdout",
     "output_type": "stream",
     "text": [
      "['Hello', 'World!', 'Good', 'times', 'await!']\n"
     ]
    }
   ],
   "source": [
    "AdvancedGIS4lyf = AdvancedGIS4lyf.split()\n",
    "print(AdvancedGIS4lyf)"
   ]
  },
  {
   "cell_type": "markdown",
   "metadata": {},
   "source": [
    "### Step 6"
   ]
  },
  {
   "cell_type": "code",
   "execution_count": 16,
   "metadata": {},
   "outputs": [
    {
     "data": {
      "text/plain": [
       "['Good', 'Hello', 'World!', 'await!', 'times']"
      ]
     },
     "execution_count": 16,
     "metadata": {},
     "output_type": "execute_result"
    }
   ],
   "source": [
    "AdvancedGIS4lyf.sort()\n",
    "AdvancedGIS4lyf"
   ]
  },
  {
   "cell_type": "markdown",
   "metadata": {},
   "source": [
    "### Step 7"
   ]
  },
  {
   "cell_type": "code",
   "execution_count": 17,
   "metadata": {},
   "outputs": [
    {
     "data": {
      "text/plain": [
       "\"OK I'M STARTING TO GET THE HANG OF THIS.\""
      ]
     },
     "execution_count": 17,
     "metadata": {},
     "output_type": "execute_result"
    }
   ],
   "source": [
    "x = \"Ok I'm starting to get the hang of this.\"\n",
    "y = x.upper()\n",
    "y"
   ]
  },
  {
   "cell_type": "markdown",
   "metadata": {},
   "source": [
    "### Step 8"
   ]
  },
  {
   "cell_type": "code",
   "execution_count": 18,
   "metadata": {},
   "outputs": [],
   "source": [
    "### AdvancedGIS4lyf.upper()"
   ]
  },
  {
   "cell_type": "markdown",
   "metadata": {},
   "source": [
    "### Step 9"
   ]
  },
  {
   "cell_type": "code",
   "execution_count": 20,
   "metadata": {},
   "outputs": [
    {
     "name": "stdout",
     "output_type": "stream",
     "text": [
      "The elevation in feet is 147.6 feet.\n"
     ]
    }
   ],
   "source": [
    "### taking input elevation in meters\n",
    "elev_m = input(\"Enter an elevation in meters: \")\n",
    "\n",
    "### converting to ft\n",
    "elev_ft = float(elev_m) * 3.28084\n",
    "\n",
    "print(f'The elevation in feet is {round(elev_ft, 1)} feet.')"
   ]
  },
  {
   "cell_type": "markdown",
   "metadata": {},
   "source": [
    "### Step 10"
   ]
  },
  {
   "cell_type": "code",
   "execution_count": 19,
   "metadata": {},
   "outputs": [
    {
     "name": "stdout",
     "output_type": "stream",
     "text": [
      "Carson City: 54745\n",
      "Churchill: 24230\n",
      "Clark: 2204079\n",
      "Douglas: 48309\n",
      "Elko: 52649\n",
      "Esmeralda: 850\n",
      "Eureka: 1961\n",
      "Humboldt: 16826\n",
      "Lander: 5693\n",
      "Lincoln: 5223\n",
      "Lyon: 54122\n",
      "Mineral: 4457\n",
      "Nye: 44202\n",
      "Pershing: 6508\n",
      "Storey: 4006\n",
      "Washoe: 460587\n",
      "White Pine: 9592\n",
      " \n",
      "White Pine: 9592\n",
      "Washoe: 460587\n",
      "Storey: 4006\n",
      "Pershing: 6508\n",
      "Nye: 44202\n",
      "Mineral: 4457\n",
      "Lyon: 54122\n",
      "Lincoln: 5223\n",
      "Lander: 5693\n",
      "Humboldt: 16826\n",
      "Eureka: 1961\n",
      "Esmeralda: 850\n",
      "Elko: 52649\n",
      "Douglas: 48309\n",
      "Clark: 2204079\n",
      "Churchill: 24230\n",
      "Carson City: 54745\n"
     ]
    }
   ],
   "source": [
    "#2017 Population Estimates - ACS\n",
    "NVPopulations2017 = [\"Carson City: 54745\",\"Churchill: 24230\",\"Clark: 2204079\",\"Douglas: 48309\",\"Elko: 52649\",\"Esmeralda: 850\",\"Eureka: 1961\",\"Humboldt: 16826\",\"Lander: 5693\",\"Lincoln: 5223\",\"Lyon: 54122\",\"Mineral: 4457\",\"Nye: 44202\",\"Pershing: 6508\",\"Storey: 4006\",\"Washoe: 460587\",\"White Pine: 9592\"]\n",
    "\n",
    "### printing the items in the list one by one\n",
    "for x in NVPopulations2017:\n",
    "    print(x)\n",
    "    \n",
    "    \n",
    "### making a copy of the list\n",
    "NVPopulations_reverse = NVPopulations2017.copy()\n",
    "\n",
    "### sorting the list in reverse\n",
    "NVPopulations_reverse.sort(reverse = True)\n",
    "\n",
    "### putting an empty string here in between printing lists so I can read it more easily\n",
    "print(\" \")\n",
    "\n",
    "### printing the reverse-sorted list items one by one\n",
    "for y in NVPopulations_reverse:\n",
    "    print(y)\n"
   ]
  },
  {
   "cell_type": "markdown",
   "metadata": {},
   "source": [
    "### Step 11"
   ]
  },
  {
   "cell_type": "code",
   "execution_count": 21,
   "metadata": {},
   "outputs": [
    {
     "name": "stdout",
     "output_type": "stream",
     "text": [
      "/Users/gshelor/Documents/GEOG607/Labs/Lab4\n"
     ]
    },
    {
     "data": {
      "image/png": "[encoded data removed]",
      "text/plain": [
       "<Figure size 640x480 with 1 Axes>"
      ]
     },
     "metadata": {},
     "output_type": "display_data"
    }
   ],
   "source": [
    "import matplotlib.pyplot as plt\n",
    "import pandas as pd\n",
    "import os\n",
    "print(os.getcwd())\n",
    "# This imports the pandas library. This comes along with the Anaconda Distribution,\n",
    "# and as we'll see, makes working with data much simpler than using some of the \n",
    "# more basic ways to open files than those we just worked with. 'Pandas' is shorthand for\n",
    "# 'Python Data Analysis Library' - it creates a Python object with rows and columns in a dataframe\n",
    "# from data you import (like .csv or .txt files). For those used to working in \n",
    "# R, this will seem fairly familiar.\n",
    "\n",
    "#Make sure you know where your file is saved. You may have to \n",
    "#change the code on the line below to point it to the .csv file\n",
    "d = pd.read_csv('Washoe_County.csv')\n",
    "elev = d['Elevation']\n",
    "prom = d['Prominence']\n",
    "\n",
    "# Make a histogram!\n",
    "legend = ['Elevation', 'Prominence']\n",
    "bins = [0,1000,2000,3000,4000,5000,6000,7000,8000,9000,10000,11000]\n",
    "plt.hist([elev, prom], bins,color=['orange', 'blue'])\n",
    "plt.xlabel(\"Elevation & Prominence\")\n",
    "plt.ylabel(\"Frequency\")\n",
    "plt.ylim(0,270)\n",
    "plt.xlim(0,11000)\n",
    "plt.xticks()\n",
    "plt.legend(legend)\n",
    "plt.title('Washoe County Summits')\n",
    "plt.show()\n",
    "\n",
    "# Make 3 changes/improvements to the graph and upload to Canvas/WebCampus at the assignment link"
   ]
  }
 ],
 "metadata": {
  "kernelspec": {
   "display_name": "snowthesis",
   "language": "python",
   "name": "python3"
  },
  "language_info": {
   "codemirror_mode": {
    "name": "ipython",
    "version": 3
   },
   "file_extension": ".py",
   "mimetype": "text/x-python",
   "name": "python",
   "nbconvert_exporter": "python",
   "pygments_lexer": "ipython3",
   "version": "3.12.4"
  }
 },
 "nbformat": 4,
 "nbformat_minor": 2
}
