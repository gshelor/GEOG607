{
 "cells": [
  {
   "cell_type": "markdown",
   "metadata": {},
   "source": [
    "Griffin Shelor\\\n",
    "25-9-2024\\\n",
    "Lab 4"
   ]
  },
  {
   "cell_type": "markdown",
   "metadata": {},
   "source": []
  },
  {
   "cell_type": "code",
   "execution_count": 1,
   "metadata": {},
   "outputs": [
    {
     "name": "stdout",
     "output_type": "stream",
     "text": [
      "5\n",
      "4\n",
      "3\n",
      "2\n",
      "1\n",
      "Let's go!\n",
      "Oh, and Hello World!\n"
     ]
    }
   ],
   "source": []
  },
  {
   "cell_type": "markdown",
   "metadata": {},
   "source": [
    "2"
   ]
  },
  {
   "cell_type": "code",
   "execution_count": 4,
   "metadata": {},
   "outputs": [
    {
     "name": "stdout",
     "output_type": "stream",
     "text": [
      "/Users/gshelor/Documents/GEOG607\n",
      "2\n",
      "2.5\n",
      "What better way is there to spend a Monday afternoon What better way is there to spend a Wednesday afternoon?\n",
      "What better way is there to spend a Monday afternoon ?  What better way is there to spend a Wednesday afternoon? ?!  I hope we keep doing this in October!\n",
      "What better way is there to spend a Wednesday afternoon?   What better way is there to spend a Monday afternoon\n",
      "What better way is there to spend a Monday afternoon? What better way is there to spend a Wednesday afternoon?\n"
     ]
    }
   ],
   "source": []
  },
  {
   "cell_type": "markdown",
   "metadata": {},
   "source": [
    "3"
   ]
  },
  {
   "cell_type": "code",
   "execution_count": 7,
   "metadata": {},
   "outputs": [
    {
     "name": "stdout",
     "output_type": "stream",
     "text": [
      "Elevation: 7734 feet, 2357 meters\n",
      "Baboquivari Peak, Arizona\n",
      "Babo\n",
      "4\n",
      "-1\n",
      "Baboquivari Peak \n",
      " Baboquivari Peak\n",
      "Baboquivari Peak\n"
     ]
    }
   ],
   "source": []
  },
  {
   "cell_type": "markdown",
   "metadata": {},
   "source": [
    "4"
   ]
  },
  {
   "cell_type": "code",
   "execution_count": 9,
   "metadata": {},
   "outputs": [
    {
     "name": "stdout",
     "output_type": "stream",
     "text": [
      "13.066666666666666\n",
      "2\n",
      "3.3333333333333335\n",
      "1.5714285714285714\n",
      "1.6\n",
      "1.571\n",
      "1.6 4.57\n",
      "Feet: 183.7\n",
      "T\n",
      "h\n",
      "i\n",
      "s\n",
      " \n",
      "i\n",
      "s\n",
      " \n",
      "m\n",
      "y\n",
      " \n",
      "s\n",
      "e\n",
      "n\n",
      "t\n",
      "e\n",
      "n\n",
      "c\n",
      "e\n",
      "T\n",
      "e\n",
      " \n",
      "This\n",
      "sentenc\n",
      "sentence\n",
      "This\n"
     ]
    }
   ],
   "source": []
  }
 ],
 "metadata": {
  "kernelspec": {
   "display_name": "snowthesis",
   "language": "python",
   "name": "python3"
  },
  "language_info": {
   "codemirror_mode": {
    "name": "ipython",
    "version": 3
   },
   "file_extension": ".py",
   "mimetype": "text/x-python",
   "name": "python",
   "nbconvert_exporter": "python",
   "pygments_lexer": "ipython3",
   "version": "3.12.4"
  }
 },
 "nbformat": 4,
 "nbformat_minor": 2
}
